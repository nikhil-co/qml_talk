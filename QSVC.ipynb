{
 "cells": [
  {
   "cell_type": "markdown",
   "metadata": {},
   "source": [
    "# Quantum Machine Learning and Quantum Support Vector Classifier (QSVC)"
   ]
  },
  {
   "cell_type": "markdown",
   "metadata": {},
   "source": [
    "## Required Libraries\n",
    "\n",
    "1. Pennylane - for quantum circuit simulations\n",
    "2. scikit-learn - for Machine Learning\n",
    "\n",
    "`Uncomment the code cell below to instal the two libraries`"
   ]
  },
  {
   "cell_type": "code",
   "execution_count": 8,
   "metadata": {},
   "outputs": [],
   "source": [
    "# !pip install pennylane==0.37\n",
    "# !pip install scikit-learn==1.5.1"
   ]
  },
  {
   "cell_type": "markdown",
   "metadata": {},
   "source": [
    "## Introduction to Machine Learning\n",
    "\n",
    "Machine learning is a subset of artificial intelligence (AI) focused on building systems that learn from data and improve their performance over time without being explicitly programmed. It involves algorithms that can recognize patterns, make decisions, and predict outcomes based on input data.\n",
    "\n",
    "### Key Concepts\n",
    "\n",
    "1. **Data**: The foundation of machine learning. Data is often split into training sets (to teach the model) and testing sets (to evaluate the model's performance).\n",
    "   \n",
    "2. **Algorithms**: Procedures or methods for solving a problem. Common machine learning algorithms include Support Vector Machines, linear regression, decision trees, and neural networks.\n",
    "   \n",
    "3. **Models**: The output of the learning process. Models represent patterns learned from the training data and are used to make predictions or decisions.\n",
    "\n",
    "4. **Training**: The process of feeding data into the algorithm to help it learn. During training, the model adjusts its parameters to minimize errors.\n",
    "\n",
    "5. **Evaluation**: Assessing the model's performance using metrics like accuracy, precision, recall, and F1-score.\n",
    "\n",
    "### Types of Machine Learning\n",
    "\n",
    "1. **Supervised Learning**: The model is trained on labeled data, meaning the input comes with corresponding output. Examples include classification and regression tasks.\n",
    "   \n",
    "2. **Unsupervised Learning**: The model is trained on unlabeled data and must find patterns and relationships in the data. Examples include clustering and association tasks.\n"
   ]
  },
  {
   "cell_type": "markdown",
   "metadata": {},
   "source": [
    "## Classification and Support Vector Machines (SVMs)\n",
    "\n",
    "### Classification\n",
    "\n",
    "Classification is a type of supervised learning in machine learning where the goal is to categorize input data into predefined classes or labels. Given a dataset with known labels, a classification algorithm learns to assign labels to new, unseen data based on the patterns it has learned during training.\n",
    "\n",
    "#### Common Applications\n",
    "- **Spam Detection**: Classifying emails as spam or non-spam.\n",
    "- **Image Recognition**: Identifying objects within images, such as distinguishing between cats and dogs.\n",
    "- **Medical Diagnosis**: Classifying medical images or patient data into disease categories.\n",
    "\n",
    "### Support Vector Machines (SVMs)\n",
    "\n",
    "Support Vector Machines (SVMs) are powerful and versatile supervised learning models used for classification and regression tasks. They are particularly effective in high-dimensional spaces and are known for their robustness in handling both linear and non-linear data.\n",
    "\n",
    "#### Key Concepts\n",
    "\n",
    "1. **Hyperplane**: In SVMs, the algorithm tries to find the optimal hyperplane that best separates the data into different classes. For a two-dimensional space, this hyperplane is a line; for higher dimensions, it is a flat affine subspace.\n",
    "\n",
    "2. **Support Vectors**: The data points that are closest to the hyperplane. These points are crucial in defining the position and orientation of the hyperplane.\n",
    "\n",
    "3. **Margin**: The distance between the hyperplane and the nearest support vectors from any class. SVM aims to maximize this margin to ensure the best separation between classes.\n",
    "\n",
    "4. **Kernel Trick**: SVMs can efficiently perform a non-linear classification using the kernel trick, implicitly mapping input features into high-dimensional feature spaces. Common kernels include linear, polynomial, and radial basis function (RBF) kernels.\n",
    "\n",
    "#### Advantages of SVMs\n",
    "- Effective in high-dimensional spaces.\n",
    "- Works well with a clear margin of separation.\n",
    "- Robust against overfitting, especially in high-dimensional space.\n",
    "\n",
    "#### Applications of SVMs\n",
    "- **Text Categorization**: Sorting documents into categories based on content.\n",
    "- **Bioinformatics**: Classifying proteins or gene expression data.\n",
    "- **Image Classification**: Identifying objects within images."
   ]
  },
  {
   "cell_type": "markdown",
   "metadata": {},
   "source": [
    "### Quantum Support Vector Classification (QSVC)\n",
    "\n",
    "QSVC is a variant of the traditional Support Vector Machine (SVM) that leverages quantum computing principles to enhance performance. It is part of the emerging field of Quantum Machine Learning, which seeks to utilize quantum algorithms to solve complex machine learning problems more efficiently than classical approaches.\n"
   ]
  },
  {
   "cell_type": "code",
   "execution_count": null,
   "metadata": {},
   "outputs": [],
   "source": []
  },
  {
   "cell_type": "code",
   "execution_count": null,
   "metadata": {},
   "outputs": [],
   "source": []
  },
  {
   "cell_type": "code",
   "execution_count": null,
   "metadata": {},
   "outputs": [],
   "source": []
  },
  {
   "cell_type": "code",
   "execution_count": null,
   "metadata": {},
   "outputs": [],
   "source": [
    "# Importing Required Libraries\n",
    "import time\n",
    "\n",
    "import numpy as np\n",
    "import matplotlib.pyplot as plt\n",
    "\n",
    "# scikit-learn\n",
    "import sklearn\n",
    "from sklearn.svm import SVC\n",
    "from sklearn.datasets import load_iris\n",
    "from sklearn.preprocessing import StandardScaler\n",
    "from sklearn.model_selection import train_test_split\n",
    "from sklearn.metrics import ConfusionMatrixDisplay, classification_report\n",
    "\n",
    "import pennylane as qml\n",
    "from pennylane.templates import AngleEmbedding\n",
    "\n",
    "np.random.seed(42)\n",
    "\n",
    "print(f'Pennylane version: {qml.__version__}')\n",
    "print(f'scikit-learn version: {sklearn.__version__}')"
   ]
  },
  {
   "cell_type": "markdown",
   "metadata": {},
   "source": [
    "## Dataset \n",
    "Loading the [Iris dataset](https://scikit-learn.org/stable/modules/generated/sklearn.datasets.load_iris.html)"
   ]
  },
  {
   "cell_type": "code",
   "execution_count": 3,
   "metadata": {},
   "outputs": [
    {
     "name": "stdout",
     "output_type": "stream",
     "text": [
      "Shape of data: ((150, 4), (150,))\n"
     ]
    }
   ],
   "source": [
    "X, y = load_iris(return_X_y=True)\n",
    "print(f'Shape of data: {X.shape, y.shape}')"
   ]
  },
  {
   "cell_type": "code",
   "execution_count": 11,
   "metadata": {},
   "outputs": [
    {
     "name": "stdout",
     "output_type": "stream",
     "text": [
      "Training set shape: (80, 4)\n",
      "Testing set shape: (20, 4)\n"
     ]
    }
   ],
   "source": [
    "# pick inputs and labels from the first two classes only,\n",
    "# corresponding to the first 100 samples\n",
    "X = X[:100]\n",
    "y = y[:100]\n",
    "\n",
    "# # scaling the labels to -1, 1 is important for the SVM and the\n",
    "# # definition of a hinge loss\n",
    "y_scaled = 2 * (y - 0.5)\n",
    "\n",
    "# y_scaled = y"
   ]
  },
  {
   "cell_type": "code",
   "execution_count": null,
   "metadata": {},
   "outputs": [],
   "source": [
    "\n",
    "# Splitting the data in to train and test set\n",
    "X_train, X_test, y_train, y_test = train_test_split(X, y_scaled, test_size=0.2,random_state=42)\n",
    "\n",
    "# scaling the inputs is important since the embedding we use is periodic\n",
    "std_scale = StandardScaler().fit(X_train)\n",
    "X_train = std_scale.transform(X_train)\n",
    "X_test = std_scale.transform(X_test)\n",
    "\n",
    "print(f'Training set shape: {X_train.shape}')\n",
    "print(f'Testing set shape: {X_test.shape}')"
   ]
  },
  {
   "cell_type": "code",
   "execution_count": 12,
   "metadata": {},
   "outputs": [],
   "source": [
    "n_qubits = X.shape[1]\n",
    "dev= qml.device(\"default.qubit\", wires=n_qubits)\n",
    "\n",
    "projector = np.zeros((2**n_qubits, 2**n_qubits))\n",
    "projector[0, 0] = 1\n",
    "\n",
    "@qml.qnode(dev, interface=\"autograd\")\n",
    "def inner_product(x1, x2):\n",
    "    \"\"\"The quantum kernel.\"\"\"\n",
    "\n",
    "    AngleEmbedding(x1, wires=range(n_qubits))\n",
    "    qml.adjoint(AngleEmbedding)(x2, wires=range(n_qubits))\n",
    "\n",
    "    # for qubit in range(n_qubits):\n",
    "    #     qml.RX(phi=x1[qubit],wires=qubit)\n",
    "    #     qml.RX(phi=-1*x2[qubit],wires=qubit)\n",
    "\n",
    "    return qml.expval(qml.Hermitian(projector, wires=range(n_qubits)))"
   ]
  },
  {
   "cell_type": "code",
   "execution_count": 13,
   "metadata": {},
   "outputs": [],
   "source": [
    "# @qml.qnode(dev, interface=\"autograd\")\n",
    "# def inner_product(x1, x2):\n",
    "#     \"\"\"The quantum kernel.\"\"\"\n",
    "\n",
    "#     AngleEmbedding(x1, wires=range(n_qubits))\n",
    "#     qml.adjoint(AngleEmbedding)(x2, wires=range(n_qubits))\n",
    "\n",
    "#     return qml.state()\n",
    "\n",
    "# inner_product(X[1],X[2])[0]**2"
   ]
  },
  {
   "cell_type": "code",
   "execution_count": 14,
   "metadata": {},
   "outputs": [],
   "source": [
    "def quantum_kernel(A, B):\n",
    "    \"\"\"Compute the matrix whose entries are the kernel\n",
    "       evaluated on pairwise data from sets A and B.\"\"\"\n",
    "    n = A.shape[0]\n",
    "    m = B.shape[0]\n",
    "    \n",
    "    if n == m:\n",
    "        gram_matrix = np.diag(np.full(n,1))\n",
    "        for row in range(n):\n",
    "            for col in range(m):\n",
    "                if row < col:\n",
    "                    gram_matrix[row, col] = inner_product(A[row], B[col])\n",
    "        \n",
    "        gram_matrix = gram_matrix + gram_matrix.T\n",
    "        \n",
    "        return gram_matrix\n",
    "    else:\n",
    "        return np.array([[inner_product(a, b) for b in B] for a in A])\n",
    "\n",
    "# def quantum_kernel(A, B):\n",
    "#     \"\"\"Compute the matrix whose entries are the kernel\n",
    "#        evaluated on pairwise data from sets A and B.\"\"\"\n",
    "#     return np.array([[inner_product(a, b) for b in B] for a in A])"
   ]
  },
  {
   "cell_type": "code",
   "execution_count": 18,
   "metadata": {},
   "outputs": [
    {
     "name": "stdout",
     "output_type": "stream",
     "text": [
      "Classification report:\n",
      "               precision    recall  f1-score   support\n",
      "\n",
      "        -1.0      1.000     1.000     1.000        12\n",
      "         1.0      1.000     1.000     1.000         8\n",
      "\n",
      "    accuracy                          1.000        20\n",
      "   macro avg      1.000     1.000     1.000        20\n",
      "weighted avg      1.000     1.000     1.000        20\n",
      "\n",
      "Time taken to train and test: 6.845061302185059\n"
     ]
    }
   ],
   "source": [
    "start = time.time()\n",
    "\n",
    "# Defining SVC \n",
    "qsvc = SVC(kernel=quantum_kernel)\n",
    "\n",
    "# Fitting the clssifier\n",
    "qsvc.fit(X_train, y_train)\n",
    "\n",
    "# Making predictions on the Test set\n",
    "predictions = qsvc.predict(X_test)\n",
    "\n",
    "# Calculating the results\n",
    "print(f'Classification report:\\n {classification_report(y_test, predictions,digits=3)}')\n",
    "\n",
    "print(f'Time taken to train and test: {time.time() - start}')"
   ]
  },
  {
   "cell_type": "code",
   "execution_count": 16,
   "metadata": {},
   "outputs": [],
   "source": [
    "@qml.qnode(dev)\n",
    "def pny_state(x):\n",
    "    angle = np.pi/4\n",
    "    for para in range(n_qubits):\n",
    "        qml.RX(phi=angle*x[para],wires=para)\n",
    "    return qml.state()\n",
    "\n",
    "def pny_feature_state(rows):\n",
    "    psi = np.array([])\n",
    "    for i in range(rows.shape[1]):\n",
    "        sv = pny_state(rows[:,i])\n",
    "        psi = np.append(psi, sv)\n",
    "    psi = np.reshape(psi, (rows.shape[1], 2**n_qubits))\n",
    "    return psi"
   ]
  },
  {
   "cell_type": "code",
   "execution_count": 19,
   "metadata": {},
   "outputs": [
    {
     "name": "stdout",
     "output_type": "stream",
     "text": [
      "Time Taken: 0.1045525074005127\n",
      "              precision    recall  f1-score   support\n",
      "\n",
      "        -1.0      1.000     1.000     1.000        12\n",
      "         1.0      1.000     1.000     1.000         8\n",
      "\n",
      "    accuracy                          1.000        20\n",
      "   macro avg      1.000     1.000     1.000        20\n",
      "weighted avg      1.000     1.000     1.000        20\n",
      "\n"
     ]
    },
    {
     "data": {
      "image/png": "[encoded data removed]",
      "text/plain": [
       "<Figure size 640x480 with 2 Axes>"
      ]
     },
     "metadata": {},
     "output_type": "display_data"
    }
   ],
   "source": [
    "qsvc = SVC(kernel='precomputed')\n",
    "\n",
    "start = time.time()\n",
    "\n",
    "psi_train = pny_feature_state(X_train.T)\n",
    "psi_test = pny_feature_state(X_test.T)\n",
    "\n",
    "gram_train = psi_train.real @ psi_train.real.T + psi_train.imag @ psi_train.imag.T\n",
    "gram_test = psi_test.real @ psi_train.real.T + psi_test.imag @ psi_train.imag.T\n",
    "\n",
    "qsvc.fit(gram_train,y_train)\n",
    "\n",
    "Ypred = qsvc.predict(gram_test)\n",
    "\n",
    "ConfusionMatrixDisplay.from_predictions(y_test, Ypred)  \n",
    "\n",
    "test_metrics = classification_report(y_test, Ypred, zero_division=0,digits=3)\n",
    "\n",
    "print(f'Time Taken: {time.time() - start}')\n",
    "print(test_metrics)"
   ]
  },
  {
   "cell_type": "markdown",
   "metadata": {},
   "source": [
    "## Kernel Matrix"
   ]
  },
  {
   "cell_type": "code",
   "execution_count": 17,
   "metadata": {},
   "outputs": [
    {
     "name": "stdout",
     "output_type": "stream",
     "text": [
      "Circuits that need to be simulated to calcute the Kernel Matrix for training and testing: 454,650\n"
     ]
    }
   ],
   "source": [
    "def n_cir(test_size:float ,data_points:int):\n",
    "\n",
    "    n_train = round(data_points * (1 - test_size))\n",
    "    n_test = data_points - n_train\n",
    "\n",
    "    train_circuits = round(n_train * (n_train - 1) * 0.5)\n",
    "    test_circuits = n_test * n_train\n",
    "\n",
    "    # print(f'Train Circuits: {train_circuits:,}')\n",
    "    # print(f'Test Circuits: {test_circuits:,}')\n",
    "\n",
    "    return train_circuits+test_circuits\n",
    "\n",
    "print(f'Circuits that need to be simulated to calcute the Kernel Matrix for training and testing: {n_cir(0.3,1000):,}')"
   ]
  },
  {
   "cell_type": "code",
   "execution_count": 63,
   "metadata": {},
   "outputs": [
    {
     "data": {
      "image/png": "[encoded data removed]",
      "text/plain": [
       "<Figure size 1440x720 with 1 Axes>"
      ]
     },
     "metadata": {},
     "output_type": "display_data"
    }
   ],
   "source": [
    "points = np.array([10*i for i in range(100,100*10,100)])\n",
    "circs = np.array([n_cir(0.2,point) for point in points])\n",
    "\n",
    "plt.figure(figsize=(12,6),dpi=120)\n",
    "\n",
    "plt.plot(points,circs,ls='--',lw=0.6,marker='x',ms=5,label='Number of circuits',c='b')\n",
    "plt.plot(points,points**2,label='$N^2$',c='g')\n",
    "plt.plot(points,points,label='$N$',c='y')\n",
    "\n",
    "plt.yscale('log')\n",
    "\n",
    "plt.xlabel(\"Points\")\n",
    "plt.ylabel(\"Cirucits\")\n",
    "\n",
    "plt.legend(loc='right',fontsize=16)\n",
    "plt.title('Circuits for QSVC (log scale)')\n",
    "\n",
    "plt.grid()\n",
    "\n",
    "plt.show()"
   ]
  },
  {
   "cell_type": "markdown",
   "metadata": {},
   "source": [
    "## References\n",
    "\n",
    "[1] Vojtech Havlicek, Antonio D. C´orcoles, Kristan Temme, Aram W. Harrow, Abhinav Kandala, Jerry M. Chow, and Jay M. Gambetta1, *Supervised learning with quantum enhanced feature spaces*, Nature 567, 209–212 (2019)."
   ]
  }
 ],
 "metadata": {
  "kernelspec": {
   "display_name": "qc",
   "language": "python",
   "name": "python3"
  },
  "language_info": {
   "codemirror_mode": {
    "name": "ipython",
    "version": 3
   },
   "file_extension": ".py",
   "mimetype": "text/x-python",
   "name": "python",
   "nbconvert_exporter": "python",
   "pygments_lexer": "ipython3",
   "version": "3.11.9"
  }
 },
 "nbformat": 4,
 "nbformat_minor": 2
}
